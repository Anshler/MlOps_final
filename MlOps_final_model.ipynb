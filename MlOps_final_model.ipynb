{
 "nbformat": 4,
 "nbformat_minor": 0,
 "metadata": {
  "colab": {
   "provenance": [],
   "gpuType": "T4"
  },
  "kernelspec": {
   "name": "python3",
   "display_name": "Python 3 (ipykernel)",
   "language": "python"
  },
  "language_info": {
   "name": "python"
  },
  "accelerator": "GPU"
 },
 "cells": [
  {
   "cell_type": "markdown",
   "source": [
    "# Import dependencies"
   ],
   "metadata": {
    "id": "IcY8q2dCUbo3"
   }
  },
  {
   "cell_type": "code",
   "source": [
    "import torch\n",
    "import torch.nn as nn\n",
    "import torch.optim as optim\n",
    "from sklearn.datasets import make_classification\n",
    "from sklearn.model_selection import train_test_split\n",
    "from sklearn.preprocessing import MinMaxScaler\n",
    "from sklearn.metrics import accuracy_score\n",
    "from safetensors.torch import save_file"
   ],
   "metadata": {
    "id": "o2SzMYELTnm2",
    "ExecuteTime": {
     "end_time": "2025-04-19T11:14:05.884969Z",
     "start_time": "2025-04-19T11:14:05.874675Z"
    }
   },
   "outputs": [],
   "execution_count": 17
  },
  {
   "cell_type": "markdown",
   "source": [
    "# Create dataset"
   ],
   "metadata": {
    "id": "_qeP5yuKUfNW"
   }
  },
  {
   "cell_type": "code",
   "source": [
    "scaler = MinMaxScaler()\n",
    "X, y = make_classification(n_samples=100_000, n_features=20, n_informative=18, n_redundant=2, n_repeated=0, n_classes=2, random_state=42)\n",
    "X = scaler.fit_transform(X)\n",
    "X_train, X_test, y_train, y_test = train_test_split(X, y, test_size=0.3, random_state=42)\n",
    "\n",
    "\n",
    "device = torch.device(\"cuda\" if torch.cuda.is_available() else \"cpu\")\n",
    "print(device)\n",
    "X_train_tensor = torch.tensor(X_train, dtype=torch.float32).to(device)\n",
    "X_test_tensor = torch.tensor(X_test, dtype=torch.float32).to(device)\n",
    "y_train_tensor = torch.tensor(y_train, dtype=torch.float32).to(device)\n",
    "y_test_tensor = torch.tensor(y_test, dtype=torch.float32).to(device)"
   ],
   "metadata": {
    "id": "u8OjsAxSTtDG",
    "ExecuteTime": {
     "end_time": "2025-04-19T11:14:06.193746Z",
     "start_time": "2025-04-19T11:14:06.108337Z"
    }
   },
   "outputs": [
    {
     "name": "stdout",
     "output_type": "stream",
     "text": [
      "cuda\n"
     ]
    }
   ],
   "execution_count": 18
  },
  {
   "cell_type": "markdown",
   "source": [
    "# Model\n"
   ],
   "metadata": {
    "id": "eK-scfbsVlme"
   }
  },
  {
   "cell_type": "code",
   "source": [
    "class Model(nn.Module):\n",
    "    def __init__(self, hidden_layer=64):\n",
    "        super(Model, self).__init__()\n",
    "        self.fc1 = nn.Linear(20, hidden_layer)\n",
    "        self.fc2 = nn.Linear(hidden_layer, hidden_layer)\n",
    "        self.fc3 = nn.Linear(hidden_layer, hidden_layer)\n",
    "        self.fc4 = nn.Linear(hidden_layer, 1)\n",
    "        self.sigmoid = nn.Sigmoid()\n",
    "\n",
    "    def forward(self, x):\n",
    "        x = torch.relu(self.fc1(x))\n",
    "        x = torch.relu(self.fc2(x))\n",
    "        x = torch.relu(self.fc3(x))\n",
    "        x = self.sigmoid(self.fc4(x))\n",
    "        return x"
   ],
   "metadata": {
    "id": "dm552PjGVnIO",
    "ExecuteTime": {
     "end_time": "2025-04-19T11:14:06.209218Z",
     "start_time": "2025-04-19T11:14:06.204209Z"
    }
   },
   "outputs": [],
   "execution_count": 19
  },
  {
   "cell_type": "code",
   "source": [
    "GRID_CONFIG = {\n",
    "  'hidden_layer': [64, 128, 512],\n",
    "  'learning_rate': [0.01, 0.005, 0.001],\n",
    "}\n",
    "\n",
    "EPOCH = 30\n",
    "\n",
    "best_model = None\n",
    "best_accuracy = 0\n",
    "best_params = {}"
   ],
   "metadata": {
    "id": "L4xsRZfiZXHg",
    "ExecuteTime": {
     "end_time": "2025-04-19T11:14:06.271806Z",
     "start_time": "2025-04-19T11:14:06.261205Z"
    }
   },
   "outputs": [],
   "execution_count": 20
  },
  {
   "cell_type": "markdown",
   "source": [
    "# Train & Test"
   ],
   "metadata": {
    "id": "0GIVZepPb6fW"
   }
  },
  {
   "cell_type": "code",
   "source": [
    "for hidden_layer in GRID_CONFIG['hidden_layer']:\n",
    "    for lr in GRID_CONFIG['learning_rate']:\n",
    "        # Create model\n",
    "        model = Model(hidden_layer=hidden_layer).to(device)\n",
    "\n",
    "        # Loss function and optimizer\n",
    "        criterion = nn.BCELoss()\n",
    "        optimizer = optim.AdamW(model.parameters(), lr=lr)\n",
    "\n",
    "        # Train model\n",
    "        model.train()\n",
    "        for epoch in range(EPOCH):\n",
    "            optimizer.zero_grad()\n",
    "            y_pred = model(X_train_tensor).squeeze()\n",
    "            loss = criterion(y_pred, y_train_tensor)\n",
    "            loss.backward()\n",
    "            optimizer.step()\n",
    "\n",
    "        # Evaluate\n",
    "        model.eval()\n",
    "        with torch.no_grad():\n",
    "            y_pred_test = model(X_test_tensor).squeeze()\n",
    "            y_pred_test = (y_pred_test > 0.5).float()  # Convert sigmoid output to binary (0 or 1)\n",
    "\n",
    "        # Calculate accuracy\n",
    "        accuracy = accuracy_score(y_test_tensor.cpu(), y_pred_test.cpu())\n",
    "        print(f\"Hidden Layer: {hidden_layer:>4}   Learning Rate: {lr:<7} Accuracy: {accuracy:<5.4f}\")\n",
    "\n",
    "        # Track the best model based on accuracy\n",
    "        if accuracy > best_accuracy:\n",
    "            best_accuracy = accuracy\n",
    "            best_model = model\n",
    "            best_params = {'hidden_layer': hidden_layer, 'learning_rate': lr}\n",
    "\n",
    "print(f\"Best Model Parameters: {best_params}, Best Accuracy: {best_accuracy}\")"
   ],
   "metadata": {
    "colab": {
     "base_uri": "https://localhost:8080/"
    },
    "id": "a9sZD01cY94f",
    "outputId": "f44516dc-9c16-42d0-b0ed-6ef9240ae817",
    "ExecuteTime": {
     "end_time": "2025-04-19T11:14:09.729175Z",
     "start_time": "2025-04-19T11:14:06.289997Z"
    }
   },
   "outputs": [
    {
     "name": "stdout",
     "output_type": "stream",
     "text": [
      "Hidden Layer:   64   Learning Rate: 0.01    Accuracy: 0.7928\n",
      "Hidden Layer:   64   Learning Rate: 0.005   Accuracy: 0.8085\n",
      "Hidden Layer:   64   Learning Rate: 0.001   Accuracy: 0.7471\n",
      "Hidden Layer:  128   Learning Rate: 0.01    Accuracy: 0.8239\n",
      "Hidden Layer:  128   Learning Rate: 0.005   Accuracy: 0.8102\n",
      "Hidden Layer:  128   Learning Rate: 0.001   Accuracy: 0.7637\n",
      "Hidden Layer:  512   Learning Rate: 0.01    Accuracy: 0.7690\n",
      "Hidden Layer:  512   Learning Rate: 0.005   Accuracy: 0.8209\n",
      "Hidden Layer:  512   Learning Rate: 0.001   Accuracy: 0.8469\n",
      "Best Model Parameters: {'hidden_layer': 512, 'learning_rate': 0.001}, Best Accuracy: 0.8469333333333333\n"
     ]
    }
   ],
   "execution_count": 21
  },
  {
   "cell_type": "markdown",
   "source": [
    "# Save best model"
   ],
   "metadata": {
    "id": "O5Kxw9bPb_ko"
   }
  },
  {
   "cell_type": "code",
   "source": [
    "if best_model:\n",
    "    torch.save({\n",
    "        'X_test': X_test_tensor,\n",
    "        'y_test': y_test_tensor\n",
    "    }, \"test_data.pt\")\n",
    "    save_file(best_model.state_dict(), \"best_model.safetensors\")"
   ],
   "metadata": {
    "id": "xW6pX4_BTjjW",
    "ExecuteTime": {
     "end_time": "2025-04-19T11:14:09.772374Z",
     "start_time": "2025-04-19T11:14:09.761886Z"
    }
   },
   "outputs": [],
   "execution_count": 22
  }
 ]
}
